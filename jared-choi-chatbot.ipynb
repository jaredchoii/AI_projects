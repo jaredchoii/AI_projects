{
  "cells": [
    {
      "cell_type": "markdown",
      "metadata": {
        "id": "view-in-github",
        "colab_type": "text"
      },
      "source": [
        "<a href=\"https://colab.research.google.com/gist/jaredchoii/0cbf474f5fd7e399a6c88041bf269b6f/jared-choi-chatbot.ipynb\" target=\"_parent\"><img src=\"https://colab.research.google.com/assets/colab-badge.svg\" alt=\"Open In Colab\"/></a>"
      ]
    },
    {
      "cell_type": "markdown",
      "source": [
        "# This is the generic base code for the your chatbot."
      ],
      "metadata": {
        "id": "28k6IXCZI5og"
      }
    },
    {
      "cell_type": "code",
      "execution_count": 51,
      "metadata": {
        "id": "JCgEFiqXNUKB",
        "colab": {
          "base_uri": "https://localhost:8080/"
        },
        "outputId": "999eca20-80ed-4abf-ff79-09470f34d094"
      },
      "outputs": [
        {
          "output_type": "stream",
          "name": "stdout",
          "text": [
            "Requirement already satisfied: nltk in /usr/local/lib/python3.10/dist-packages (3.8.1)\n",
            "Requirement already satisfied: click in /usr/local/lib/python3.10/dist-packages (from nltk) (8.1.3)\n",
            "Requirement already satisfied: joblib in /usr/local/lib/python3.10/dist-packages (from nltk) (1.2.0)\n",
            "Requirement already satisfied: regex>=2021.8.3 in /usr/local/lib/python3.10/dist-packages (from nltk) (2022.10.31)\n",
            "Requirement already satisfied: tqdm in /usr/local/lib/python3.10/dist-packages (from nltk) (4.65.0)\n"
          ]
        }
      ],
      "source": [
        "!pip install nltk\n",
        "import nltk\n",
        "import random\n",
        "from nltk.chat.util import Chat, reflections"
      ]
    },
    {
      "cell_type": "code",
      "source": [
        "\n",
        "rules = {\n",
        "    'red': ['Red was one of the first colors used in prehistoric art pieces!', 'Red is a nice color!', 'Red is often seen representing anger.'],\n",
        "    'orange': ['Orange is a very basic color.', 'Did you know The artist Vincent Van Gogh used a lot of orange in his paintings?' 'Orange is also a fruit!'],\n",
        "    'yellow': ['Yellow is a very bright color!', 'Making yellow darker leads to gold!', 'Yellow is considered a lucky color in China.'],\n",
        "    'green': ['Did you know green is often used in hospitals and other environments to evoke calmness and serenity?', 'Green is the color of peace, nature, life, youth, safety and hope!', 'Grass is green.'],\n",
        "    'blue': ['Blue reminds me of a peaceful sky!', 'Blue is a calming color.', 'Water is blue!'],\n",
        "    'purple': ['Purple is also know as violet.', 'I think purple is similar to pink in many ways!', 'The grimace shake from McDonalds is purple!'],\n",
        "    'white': ['Clouds are white!', 'White represents blankness and peace of mind.', 'White is almost clear!'],\n",
        "    'black': ['Black is very very dark...', 'Did you know that a BLACK hole is black?', 'Black is not featured on a traditional color wheel.']}\n",
        "\n",
        "\n",
        "pairs = list(rules.items())\n",
        "chat_history = []\n",
        "\n",
        "chatbot = Chat(pairs, reflections)\n",
        "\n",
        "def handle_input(user_input):\n",
        "    chat_history.append(user_input)  # Remember user input in chat history\n",
        "    response = chatbot.respond(user_input)  # Get the chatbot's response\n",
        "    chat_history.append(response)  # Remember chatbot response in chat history\n",
        "    print(response)\n",
        "\n",
        "while True:\n",
        "    print('What color are you thinking of? (say: off, if you cannot think of something)') #chatbot asks you what color you are thinking of\n",
        "    user_input = input(\"color: \")\n",
        "    if user_input == 'red':\n",
        "      print('That is a great color!')\n",
        "    elif user_input == 'orange':oog\n",
        "      print('That is a great color!')\n",
        "    elif user_input == 'yellow':\n",
        "      print('That is a great color!')\n",
        "    elif user_input == 'green':\n",
        "      print('That is a great color!')\n",
        "    elif user_input == 'blue':\n",
        "      print('That is a great color!')\n",
        "    elif user_input == 'purple':\n",
        "      print('That is a great color!')\n",
        "    elif user_input == 'black':\n",
        "      print('That is a great color!')\n",
        "    elif user_input == 'white':\n",
        "      print('That is a great color!')\n",
        "    elif user_input == 'off':\n",
        "      print('Okay, I am shutting down... goodbye')\n",
        "    else:\n",
        "      print('I do not know that color.') #If you do not say a color within the chatbot's identifying abilities, it will say that it does not know what the color is\n",
        "    if user_input.lower() == 'off':\n",
        "        break\n",
        "    handle_input(user_input)"
      ],
      "metadata": {
        "colab": {
          "base_uri": "https://localhost:8080/"
        },
        "id": "BPaLVBhT88jZ",
        "outputId": "08204ba9-b60e-477b-cc06-6ac1edc8cd93"
      },
      "execution_count": 56,
      "outputs": [
        {
          "output_type": "stream",
          "name": "stdout",
          "text": [
            "What color are you thinking of? (say: off, if you cannot think of something)\n",
            "color: red\n",
            "That is a great color!\n",
            "Red was one of the first colors used in prehistoric art pieces!\n",
            "What color are you thinking of? (say: off, if you cannot think of something)\n",
            "color: red\n",
            "That is a great color!\n",
            "Red was one of the first colors used in prehistoric art pieces!\n",
            "What color are you thinking of? (say: off, if you cannot think of something)\n",
            "color: red\n",
            "That is a great color!\n",
            "Red is a nice color!\n",
            "What color are you thinking of? (say: off, if you cannot think of something)\n",
            "color: orange\n",
            "That is a great color!\n",
            "Orange is a very basic color.\n",
            "What color are you thinking of? (say: off, if you cannot think of something)\n",
            "color: orange\n",
            "That is a great color!\n",
            "Did you know The artist Vincent Van Gogh used a lot of orange in his paintings?Orange is also a fruit!\n",
            "What color are you thinking of? (say: off, if you cannot think of something)\n",
            "color: orange\n",
            "That is a great color!\n",
            "Did you know The artist Vincent Van Gogh used a lot of orange in his paintings?Orange is also a fruit!\n",
            "What color are you thinking of? (say: off, if you cannot think of something)\n",
            "color: green\n",
            "That is a great color!\n",
            "Grass is green.\n",
            "What color are you thinking of? (say: off, if you cannot think of something)\n",
            "color: green\n",
            "That is a great color!\n",
            "Green is the color of peace, nature, life, youth, safety and hope!\n",
            "What color are you thinking of? (say: off, if you cannot think of something)\n",
            "color: green\n",
            "That is a great color!\n",
            "Did you know green is often used in hospitals and other environments to evoke calmness and serenity?\n",
            "What color are you thinking of? (say: off, if you cannot think of something)\n",
            "color: blue\n",
            "That is a great color!\n",
            "Blue reminds me of a peaceful sky!\n",
            "What color are you thinking of? (say: off, if you cannot think of something)\n",
            "color: blue\n",
            "That is a great color!\n",
            "Water is blue!\n",
            "What color are you thinking of? (say: off, if you cannot think of something)\n",
            "color: blue\n",
            "That is a great color!\n",
            "Water is blue!\n",
            "What color are you thinking of? (say: off, if you cannot think of something)\n",
            "color: purple\n",
            "That is a great color!\n",
            "Purple is also know as violet.\n",
            "What color are you thinking of? (say: off, if you cannot think of something)\n",
            "color: purple\n",
            "That is a great color!\n",
            "Purple is also know as violet.\n",
            "What color are you thinking of? (say: off, if you cannot think of something)\n",
            "color: purple\n",
            "That is a great color!\n",
            "I think purple is similar to pink in many ways!\n",
            "What color are you thinking of? (say: off, if you cannot think of something)\n",
            "color: white\n",
            "That is a great color!\n",
            "White is almost clear!\n",
            "What color are you thinking of? (say: off, if you cannot think of something)\n",
            "color: white\n",
            "That is a great color!\n",
            "White is almost clear!\n",
            "What color are you thinking of? (say: off, if you cannot think of something)\n",
            "color: white\n",
            "That is a great color!\n",
            "White represents blankness and peace of mind.\n",
            "What color are you thinking of? (say: off, if you cannot think of something)\n",
            "color: black\n",
            "That is a great color!\n",
            "Black is very very dark...\n",
            "What color are you thinking of? (say: off, if you cannot think of something)\n",
            "color: black\n",
            "That is a great color!\n",
            "Did you know that a BLACK hole is black?\n",
            "What color are you thinking of? (say: off, if you cannot think of something)\n",
            "color: black\n",
            "That is a great color!\n",
            "Black is not featured on a traditional color wheel.\n",
            "What color are you thinking of? (say: off, if you cannot think of something)\n",
            "color: violet\n",
            "I do not know that color.\n",
            "None\n",
            "What color are you thinking of? (say: off, if you cannot think of something)\n",
            "color: okay\n",
            "I do not know that color.\n",
            "None\n",
            "What color are you thinking of? (say: off, if you cannot think of something)\n",
            "color: light blue\n",
            "I do not know that color.\n",
            "None\n",
            "What color are you thinking of? (say: off, if you cannot think of something)\n",
            "color: off\n",
            "Okay, I am shutting down... goodbye\n"
          ]
        }
      ]
    },
    {
      "cell_type": "code",
      "source": [],
      "metadata": {
        "id": "MceyVscIsIXl"
      },
      "execution_count": 4,
      "outputs": []
    },
    {
      "cell_type": "markdown",
      "source": [
        "# If you have sufficient credits on OpenAI, feel free to use the GPT-3.5 Turbo API.\n",
        "\n",
        "Please attend Office Hours with Alma, if you need help connecting to the API."
      ],
      "metadata": {
        "id": "oL7GseT5IpCR"
      }
    }
  ],
  "metadata": {
    "colab": {
      "provenance": [],
      "toc_visible": true,
      "include_colab_link": true
    },
    "kernelspec": {
      "display_name": "Python 3",
      "name": "python3"
    },
    "language_info": {
      "name": "python"
    }
  },
  "nbformat": 4,
  "nbformat_minor": 0
}