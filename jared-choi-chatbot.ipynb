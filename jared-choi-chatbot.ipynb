{
  "cells": [
    {
      "cell_type": "markdown",
      "metadata": {
        "id": "view-in-github",
        "colab_type": "text"
      },
      "source": [
        "<a href=\"https://colab.research.google.com/gist/jaredchoii/0cbf474f5fd7e399a6c88041bf269b6f/jared-choi-chatbot.ipynb\" target=\"_parent\"><img src=\"https://colab.research.google.com/assets/colab-badge.svg\" alt=\"Open In Colab\"/></a>"
      ]
    },
    {
      "cell_type": "markdown",
      "source": [
        "# This is the generic base code for the your chatbot."
      ],
      "metadata": {
        "id": "28k6IXCZI5og"
      }
    },
    {
      "cell_type": "code",
      "execution_count": 8,
      "metadata": {
        "id": "JCgEFiqXNUKB",
        "colab": {
          "base_uri": "https://localhost:8080/"
        },
        "outputId": "47edb0b6-cc3f-4504-d2c5-ff4272df9513"
      },
      "outputs": [
        {
          "output_type": "stream",
          "name": "stdout",
          "text": [
            "Requirement already satisfied: nltk in /usr/local/lib/python3.10/dist-packages (3.8.1)\n",
            "Requirement already satisfied: click in /usr/local/lib/python3.10/dist-packages (from nltk) (8.1.3)\n",
            "Requirement already satisfied: joblib in /usr/local/lib/python3.10/dist-packages (from nltk) (1.2.0)\n",
            "Requirement already satisfied: regex>=2021.8.3 in /usr/local/lib/python3.10/dist-packages (from nltk) (2022.10.31)\n",
            "Requirement already satisfied: tqdm in /usr/local/lib/python3.10/dist-packages (from nltk) (4.65.0)\n",
            "\u001b[31mERROR: Operation cancelled by user\u001b[0m\u001b[31m\n",
            "\u001b[0m"
          ]
        }
      ],
      "source": [
        "!pip install nltk\n",
        "import nltk\n",
        "import random\n",
        "from nltk.chat.util import Chat, reflections"
      ]
    },
    {
      "cell_type": "code",
      "source": [
        "\n",
        "rules = {\n",
        "    'red': ['Red was one of the first colors used in prehistoric art pieces!', 'Red is a nice color!', 'Red is often seen representing anger.'],\n",
        "    'orange': ['Orange is a very basic color.', 'Did you know The artist Vincent Van Gogh used a lot of orange in his paintings?' 'Orange is also a fruit!'],\n",
        "    'yellow': ['Yellow is a very bright color!', 'Making yellow darker leads to gold!', 'Yellow is considered a lucky color in China.'],\n",
        "    'green': ['Did you know green is often used in hospitals and other environments to evoke calmness and serenity?', 'Green is the color of peace, nature, life, youth, safety and hope!', 'Grass is green.'],\n",
        "    'blue': ['Blue reminds me of a peaceful sky!', 'Blue is a calming color.', 'Water is blue!'],\n",
        "    'purple': ['Purple is also know as violet.', 'I think purple is similar to pink in many ways!', 'The grimace shake from McDonalds is purple!'],\n",
        "    'white': ['Clouds are white!', 'White represents blankness and peace of mind.', 'White is almost clear!'],\n",
        "    'black': ['Black is very very dark...', 'Did you know that a BLACK hole is black?', 'Black is not featured on a traditional color wheel.']}\n",
        "\n",
        "\n",
        "pairs = list(rules.items())\n",
        "chat_history = []\n",
        "\n",
        "chatbot = Chat(pairs, reflections)\n",
        "\n",
        "def handle_input(user_input):\n",
        "    chat_history.append(user_input)  # Remember user input in chat history\n",
        "    response = chatbot.respond(user_input)  # Get the chatbot's response\n",
        "    chat_history.append(response)  # Remember chatbot response in chat history\n",
        "    print(response)\n",
        "\n",
        "while True:\n",
        "    print('What color are you thinking of? (say: off, if you cannot think of something)') #chatbot asks you what color you are thinking of\n",
        "    user_input = input(\"color: \")\n",
        "    if user_input == 'red':\n",
        "      print('That is a great color!')\n",
        "    elif user_input == 'orange':\n",
        "      print('That is a great color!')\n",
        "    elif user_input == 'yellow':\n",
        "      print('That is a great color!')\n",
        "    elif user_input == 'green':\n",
        "      print('That is a great color!')\n",
        "    elif user_input == 'blue':\n",
        "      print('That is a great color!')\n",
        "    elif user_input == 'purple':\n",
        "      print('That is a great color!')\n",
        "    elif user_input == 'black':\n",
        "      print('That is a great color!')\n",
        "    elif user_input == 'white':\n",
        "      print('That is a great color!')\n",
        "    elif user_input == 'off':\n",
        "      print('Okay, I am shutting down... goodbye')\n",
        "    else:\n",
        "      print('I do not know that color.') #If you do not say a color within the chatbot's identifying abilities, it will say that it does not know what the color is\n",
        "    if user_input.lower() == 'off':\n",
        "        break\n",
        "    handle_input(user_input)"
      ],
      "metadata": {
        "colab": {
          "base_uri": "https://localhost:8080/"
        },
        "id": "BPaLVBhT88jZ",
        "outputId": "ece5861a-d154-41f7-e4b7-e56c772b2c53"
      },
      "execution_count": 50,
      "outputs": [
        {
          "output_type": "stream",
          "name": "stdout",
          "text": [
            "What color are you thinking of? (say: off, if you cannot think of something)\n",
            "color: red\n",
            "That is a great color!\n",
            "Red is a nice color!\n",
            "What color are you thinking of? (say: off, if you cannot think of something)\n",
            "color: orange\n",
            "That is a great color!\n",
            "Orange is a very basic color.\n",
            "What color are you thinking of? (say: off, if you cannot think of something)\n",
            "color: yellow\n",
            "That is a great color!\n",
            "Yellow is considered a lucky color in China.\n",
            "What color are you thinking of? (say: off, if you cannot think of something)\n",
            "color: eaw\n",
            "I do not know that color.\n",
            "None\n",
            "What color are you thinking of? (say: off, if you cannot think of something)\n",
            "color: wadawd\n",
            "I do not know that color.\n",
            "None\n",
            "What color are you thinking of? (say: off, if you cannot think of something)\n",
            "color: off\n",
            "Okay, I am shutting down... good bye\n"
          ]
        }
      ]
    },
    {
      "cell_type": "code",
      "source": [],
      "metadata": {
        "id": "MceyVscIsIXl"
      },
      "execution_count": 4,
      "outputs": []
    },
    {
      "cell_type": "markdown",
      "source": [
        "# If you have sufficient credits on OpenAI, feel free to use the GPT-3.5 Turbo API.\n",
        "\n",
        "Please attend Office Hours with Alma, if you need help connecting to the API."
      ],
      "metadata": {
        "id": "oL7GseT5IpCR"
      }
    }
  ],
  "metadata": {
    "colab": {
      "provenance": [],
      "toc_visible": true,
      "include_colab_link": true
    },
    "kernelspec": {
      "display_name": "Python 3",
      "name": "python3"
    },
    "language_info": {
      "name": "python"
    }
  },
  "nbformat": 4,
  "nbformat_minor": 0
}