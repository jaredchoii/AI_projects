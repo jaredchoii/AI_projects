{
  "cells": [
    {
      "cell_type": "markdown",
      "source": [
        "# This is the generic base code for the your chatbot."
      ],
      "metadata": {
        "id": "28k6IXCZI5og"
      }
    },
    {
      "cell_type": "code",
      "execution_count": null,
      "metadata": {
        "id": "JCgEFiqXNUKB"
      },
      "outputs": [],
      "source": [
        "import nltk\n",
        "import random\n",
        "from nltk.chat.util import Chat, reflections"
      ]
    },
    {
      "cell_type": "code",
      "source": [
        "\n",
        "rules = {\n",
        "    'red': ['Red was one of the first colors used in prehistoric art pieces!', 'Red is a nice color!', 'Red is often seen representing anger.'],\n",
        "    'orange': ['Orange is a very basic color.', 'Did you know The artist Vincent Van Gogh used a lot of orange in his paintings?' 'Orange is also a fruit!'],\n",
        "    'yellow': ['Yellow is a very bright color!', 'Making yellow darker leads to gold!', 'Yellow is considered a lucky color in China.'],\n",
        "    'green': ['Did you know green is often used in hospitals and other environments to evoke calmness and serenity?', 'Green is the color of peace, nature, life, youth, safety and hope!', 'Grass is green.'],\n",
        "    'blue': ['Blue reminds me of a peaceful sky!', 'Blue is a calming color.', 'Water is blue!'],\n",
        "    'purple': ['Purple is also know as violet.', 'I think purple is similar to pink in many ways!', 'The grimace shake from McDonalds is purple!'],\n",
        "    'white': ['Clouds are white!', 'White represents blankness and peace of mind.', 'White is almost clear!'],\n",
        "    'black': ['Black is very very dark...', 'Did you know that a BLACK hole is black?', 'Black is not featured on a traditional color wheel.'],\n",
        "    'default': ['I am sorry, I do not know that color.']\n",
        "}\n",
        "\n",
        "pairs = list(rules.items())\n",
        "chat_history = []\n",
        "\n",
        "chatbot = Chat(pairs, reflections)\n",
        "\n",
        "def handle_input(user_input):\n",
        "    chat_history.append(user_input)  # Remember user input in chat history\n",
        "    response = chatbot.respond(user_input)  # Get the chatbot's response\n",
        "    chat_history.append(response)  # Remember chatbot response in chat history\n",
        "    print(response)\n",
        "\n",
        "while True:\n",
        "    user_input = input(\"color: \")\n",
        "    if user_input.lower() == 'quit':\n",
        "        break\n",
        "    handle_input(user_input)"
      ],
      "metadata": {
        "colab": {
          "base_uri": "https://localhost:8080/"
        },
        "id": "BPaLVBhT88jZ",
        "outputId": "4906d768-9ed3-4c38-d839-ca61f52ec1f7"
      },
      "execution_count": null,
      "outputs": [
        {
          "name": "stdout",
          "output_type": "stream",
          "text": [
            "User: hi\n",
            "Hi there!\n",
            "User: how are you?\n",
            "I am doing well, thanks!\n",
            "User: quit\n"
          ]
        }
      ]
    },
    {
      "cell_type": "code",
      "source": [],
      "metadata": {
        "id": "MceyVscIsIXl"
      },
      "execution_count": null,
      "outputs": []
    },
    {
      "cell_type": "markdown",
      "source": [
        "# If you have sufficient credits on OpenAI, feel free to use the GPT-3.5 Turbo API.\n",
        "\n",
        "Please attend Office Hours with Alma, if you need help connecting to the API."
      ],
      "metadata": {
        "id": "oL7GseT5IpCR"
      }
    }
  ],
  "metadata": {
    "colab": {
      "provenance": []
    },
    "kernelspec": {
      "display_name": "Python 3",
      "name": "python3"
    },
    "language_info": {
      "name": "python"
    }
  },
  "nbformat": 4,
  "nbformat_minor": 0
}